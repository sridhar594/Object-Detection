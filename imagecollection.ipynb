{
 "cells": [
  {
   "cell_type": "code",
   "execution_count": 1,
   "id": "a7f70974",
   "metadata": {},
   "outputs": [],
   "source": [
    "import cv2\n",
    "import os\n",
    "import time\n",
    "import uuid\n",
    "import string"
   ]
  },
  {
   "cell_type": "code",
   "execution_count": 2,
   "id": "350e31e2",
   "metadata": {},
   "outputs": [],
   "source": [
    "IMAGES_PATH='Tensorflow/workspace/images/collectedimages'"
   ]
  },
  {
   "cell_type": "code",
   "execution_count": 3,
   "id": "3a2ed4d2",
   "metadata": {},
   "outputs": [],
   "source": [
    "labels=[i for i in string.ascii_uppercase]\n",
    "for i in range(9):\n",
    "    labels.append(i)\n",
    "number_imgs=15"
   ]
  },
  {
   "cell_type": "code",
   "execution_count": 10,
   "id": "9dbc37b7",
   "metadata": {},
   "outputs": [],
   "source": [
    "label=\"THANKYOUORCONGRATS\"\n",
    "!mkdir {'C:\\\\Users\\\\LENOVO\\\\RealTimeObjectDetection\\\\Tensorflow\\\\workspace\\\\images\\\\collectedimages\\\\'+label}\n",
    "cap=cv2.VideoCapture(1)\n",
    "time.sleep(5)\n",
    "for imgnum in range(number_imgs):\n",
    "    ret,frame=cap.read()\n",
    "    imgname=os.path.join(IMAGES_PATH,label,label+'.'+'{}.jpg'.format(str(uuid.uuid1())))\n",
    "    cv2.imwrite(imgname,frame)\n",
    "    cv2.imshow('frame',frame)\n",
    "    time.sleep(2)\n",
    "        \n",
    "    if cv2.waitKey(1)  and (0xFF == ord('q')):\n",
    "        break\n",
    "cap.release()         "
   ]
  },
  {
   "cell_type": "code",
   "execution_count": null,
   "id": "8e9ad6d1",
   "metadata": {},
   "outputs": [],
   "source": []
  },
  {
   "cell_type": "code",
   "execution_count": null,
   "id": "c6a22a7a",
   "metadata": {},
   "outputs": [],
   "source": []
  },
  {
   "cell_type": "code",
   "execution_count": null,
   "id": "70171756",
   "metadata": {},
   "outputs": [],
   "source": []
  }
 ],
 "metadata": {
  "kernelspec": {
   "display_name": "Python 3 (ipykernel)",
   "language": "python",
   "name": "python3"
  },
  "language_info": {
   "codemirror_mode": {
    "name": "ipython",
    "version": 3
   },
   "file_extension": ".py",
   "mimetype": "text/x-python",
   "name": "python",
   "nbconvert_exporter": "python",
   "pygments_lexer": "ipython3",
   "version": "3.9.6"
  }
 },
 "nbformat": 4,
 "nbformat_minor": 5
}
